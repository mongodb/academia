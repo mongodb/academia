{
 "cells": [
  {
   "cell_type": "markdown",
   "id": "725e862c",
   "metadata": {},
   "source": [
    "# Section 4: Creating and manipulating documents"
   ]
  },
  {
   "cell_type": "markdown",
   "id": "a296490d",
   "metadata": {},
   "source": [
    "<div class=\"alert alert-block alert-info\">\n",
    "   \n",
    "## Jupyter Notebook basics\n",
    "\n",
    "- **Code cells:** Cells shaded grey are code cells. As you work through the lab, run all code cells in order.\n",
    "- **Running code:** To run code, press Shift + Enter or click the 'Run' button on the menu bar. Where there is code already in a cell, run it as written. Where a code cell contains the comment `#Write your code here`, write code to complete the task & then run it. If needed, consult the hints & answer to enter and run the correct entry for a task before moving on to the next task. Not every command will result in visible output.\n",
    "- **Markdown cells:** The non-code cells are written in the Markdown markup language. Double-clicking a Markdown cell will cause it to appear in raw Markdown format. To render as text again, run the cell just like running a code cell: press Shift + Enter or click the 'Run' button on the menu bar.  \n",
    "- **Restarting kernel:** If the notebook becomes unresponsive, or if either the notebook or your code displays unexpected behavior, reset the notebook by choosing \"Kernel -> Restart & Clear Output\" from the menu bar. This will clear all memory objects in the notebook, stop any code running, and reset the notebook to its initial state. \n",
    "- **Session timeout:** Sessions will automatically shut down after about 10 minutes of inactivity. (If you leave a lab window open in the foreground, this will generally be counted as “activity”.) See Binder docs: [How long will my Binder session last?](https://mybinder.readthedocs.io/en/latest/about/about.html?highlight=session%20last#how-long-will-my-binder-session-last)\n",
    "- **File navigation:** To navigate the other files in this lab, click on the folder icon (File Browser) at the top of the left sidebar and choose the `Contents.ipynb` file (or access the Contents file directly [here](../Contents.ipynb))\n",
    "\n",
    "</div>"
   ]
  },
  {
   "cell_type": "markdown",
   "id": "7aa0b5e8",
   "metadata": {},
   "source": [
    "## Introduction\n",
    "\n",
    "In this section you'll create and manipulate documents in `movies` collection of the `sample_mflix` database. Specifically, you'll:\n",
    "\n",
    "- Insert a new document to a given database and collection using `db.collection.insert_one()`\n",
    "- Insert multiple new documents into to a given database and collection using `db.collection.insert_many()`\n",
    "- Delete all documents that match a condition using `db.collection.delete_many()` \n",
    "- Update all documents that match a condition using `db.collection.update_many()`"
   ]
  },
  {
   "cell_type": "markdown",
   "id": "b63630d6",
   "metadata": {},
   "source": [
    "## Setup \n",
    "\n",
    "Before starting on the tasks below, run the following cells. \n",
    "\n",
    "This sets up a new MongoDB client, connects it to the MongoDB server instance and sets up to query the `sample_mflix` database.  "
   ]
  },
  {
   "cell_type": "code",
   "execution_count": null,
   "id": "c994ca3a",
   "metadata": {},
   "outputs": [],
   "source": [
    "from pymongo import MongoClient\n",
    "client = MongoClient()\n",
    "db = client.sample_mflix"
   ]
  },
  {
   "cell_type": "markdown",
   "id": "37ebb821",
   "metadata": {},
   "source": [
    "Run the cell below, which imports the Python `pprint` module and method. You'll use `pprint` to print output in a more readable format. "
   ]
  },
  {
   "cell_type": "code",
   "execution_count": null,
   "id": "ca56a67d",
   "metadata": {},
   "outputs": [],
   "source": [
    "# Import the pprint method from the native Python pprint library\n",
    "from pprint import pprint"
   ]
  },
  {
   "cell_type": "markdown",
   "id": "591324ae",
   "metadata": {},
   "source": [
    "## Tasks"
   ]
  },
  {
   "cell_type": "markdown",
   "id": "01e8f319",
   "metadata": {},
   "source": [
    "### 1. Insert a new document using `db.collection.insert_one()`\n",
    "\n",
    "Insert a document for a movie of your choice. Include the `title`, `director` and `runtime` fields."
   ]
  },
  {
   "cell_type": "code",
   "execution_count": null,
   "id": "01081d04",
   "metadata": {},
   "outputs": [],
   "source": [
    "# This is an example. Your solution will look differently depending on the values you chose for the \"title\", \"director\", and \"runtime\" fields.\n",
    "db.movies.insert_one(\n",
    "    {\"title\": \"Moonlight\", \"director\": \"Barry Jenkins\", \"runtime\": 111}\n",
    ")"
   ]
  },
  {
   "cell_type": "markdown",
   "id": "a64c9960",
   "metadata": {},
   "source": [
    "### Check that document inserted\n",
    "\n",
    "To confirm that the document was added to the database, run a `find()` command on the title of the movie you added. \n",
    "\n",
    "(There might multiple documents for the movie title if the database already contained data on this film before you added your document. Confirm that the exact document you entered is in the database.) "
   ]
  },
  {
   "cell_type": "code",
   "execution_count": null,
   "id": "45df5eff",
   "metadata": {},
   "outputs": [],
   "source": [
    "# This is an example. Your solution will look differently depending on the values you chose for the \"title\" field.\n",
    "\n",
    "cursor = db.movies.find({\"title\": \"Moonlight\"})\n",
    "\n",
    "for movie in cursor:\n",
    "    pprint(movie)"
   ]
  },
  {
   "cell_type": "markdown",
   "id": "31fdd392",
   "metadata": {},
   "source": [
    "### 2. Delete all documents that match a condition using `db.collection.delete_many()`\n",
    "The `movies` collection contains 46 films longer than 240 minutes. Delete the data on all of them."
   ]
  },
  {
   "cell_type": "code",
   "execution_count": null,
   "id": "76143a68",
   "metadata": {},
   "outputs": [],
   "source": [
    "db.movies.delete_many({\"runtime\": {\"$gt\": 240}})"
   ]
  },
  {
   "cell_type": "markdown",
   "id": "0051f25b",
   "metadata": {},
   "source": [
    "### Check that documents deleted\n",
    "\n",
    "To confirm that the documents were deleted from the database, count the number of movies with runtime greater than 240. There should now be zero."
   ]
  },
  {
   "cell_type": "code",
   "execution_count": null,
   "id": "bb69e220",
   "metadata": {},
   "outputs": [],
   "source": [
    "db.movies.count_documents({\"runtime\": {\"$gt\": 240}})"
   ]
  },
  {
   "cell_type": "markdown",
   "id": "b4810d3d",
   "metadata": {},
   "source": [
    "### 3. Update one document using `db.collection.update_one()`\n",
    "The information on number of award nominations for the movie \"Coraline\" is out of date. The movie has now received 46 awards. Use the `$inc` update operator to add 9 more award nominations to \"Coraline\".  "
   ]
  },
  {
   "cell_type": "code",
   "execution_count": null,
   "id": "4c7e46d8",
   "metadata": {},
   "outputs": [],
   "source": [
    "db.movies.update_one({\"title\": \"Coraline\"}, {\"$inc\" : {\"awards.nominations\" : 9}})"
   ]
  },
  {
   "cell_type": "markdown",
   "id": "5b0aefd5",
   "metadata": {},
   "source": [
    "### Check that document updated\n",
    "\n",
    "To confirm that the document was updated, query for the movie \"Coraline\" again. The value of the `\"awards.nominations\"` subfield should now be 46. "
   ]
  },
  {
   "cell_type": "code",
   "execution_count": null,
   "id": "96eb6b9a",
   "metadata": {},
   "outputs": [],
   "source": [
    "cursor = db.movies.find({\"title\": \"Coraline\"})\n",
    "\n",
    "for movie in cursor:\n",
    "    pprint(movie)"
   ]
  },
  {
   "cell_type": "markdown",
   "id": "3b0216b3",
   "metadata": {},
   "source": [
    "### 4. Update all documents that match a condition using `db.collection.update_many()`\n",
    "Update movies that were nominated for an award but didn't win by adding a `\"summary\"` sub-field to the `\"awards\"` field. Set the value of `\"summary\"` to `\"Nominated but didn't win\"`."
   ]
  },
  {
   "cell_type": "code",
   "execution_count": null,
   "id": "958fce52",
   "metadata": {},
   "outputs": [],
   "source": [
    "db.movies.update_many(\n",
    "    {\"awards.wins\": 0, \"awards.nominations\": {\"$gte\": 1}}, \n",
    "    {\"$set\": {\"awards.summary\": \"Nominated but didn't win\"}}\n",
    ")"
   ]
  },
  {
   "cell_type": "markdown",
   "id": "c8389d9a",
   "metadata": {},
   "source": [
    "### Check that documents updated\n",
    "\n",
    "To confirm that the documents were updated, query for movies that were nominated for an award but didn't win. The value of the `\"awards.summary\"` subfield should now be `\"Nominated but didn't win\"`. \n",
    "\n",
    "The query is limited to return three documents, for brevity's sake."
   ]
  },
  {
   "cell_type": "code",
   "execution_count": null,
   "id": "0ffa4bd9",
   "metadata": {},
   "outputs": [],
   "source": [
    "cursor = db.movies.find( {\"awards.wins\": 0, \"awards.nominations\": {\"$gte\": 1}}).limit(3)\n",
    "\n",
    "for movie in cursor:\n",
    "    pprint(movie)"
   ]
  },
  {
   "cell_type": "markdown",
   "id": "07c89bd5",
   "metadata": {},
   "source": [
    "## Section wrap-up\n",
    "\n",
    "Congratulations! In this section you created and manipulated documents in the `movies` collection of the `sample_mflix` database. Specifically, you:\n",
    "\n",
    "- Inserted a new document to a given database and collection using `db.collection.insert_one()`\n",
    "- Deleted all documents that match a condition using `db.collection.delete_many()` \n",
    "- Updated one document that matches a condition using `db.collection.update_one()`\n",
    "- Updated all documents that match a condition using `db.collection.update_many()`\n",
    "\n",
    "Your next step could be to use aggregation pipelines to do more complex data processing and work with documents across multiple collections in a database. "
   ]
  }
 ],
 "metadata": {
  "kernelspec": {
   "display_name": "Python 3",
   "language": "python",
   "name": "python3"
  },
  "language_info": {
   "codemirror_mode": {
    "name": "ipython",
    "version": 3
   },
   "file_extension": ".py",
   "mimetype": "text/x-python",
   "name": "python",
   "nbconvert_exporter": "python",
   "pygments_lexer": "ipython3",
   "version": "3.8.8"
  }
 },
 "nbformat": 4,
 "nbformat_minor": 5
}
