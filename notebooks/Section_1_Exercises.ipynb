{
 "cells": [
  {
   "cell_type": "markdown",
   "id": "e4dc08b9",
   "metadata": {},
   "source": [
    "# Section 1: Connect to MongoDB & explore your data"
   ]
  },
  {
   "cell_type": "markdown",
   "id": "af101949",
   "metadata": {},
   "source": [
    "<div class=\"alert alert-block alert-info\">\n",
    "   \n",
    "## Jupyter Notebook basics\n",
    "\n",
    "- **Code cells:** Cells shaded grey are code cells. As you work through the lab, run all code cells in order.\n",
    "- **Running code:** To run code, press Shift + Enter or click the 'Run' button on the menu bar. Where there is code already in a cell, run it as written. Where a code cell contains the comment `#Write your code here`, write code to complete the task & then run it. If needed, consult the hints & answer to enter and run the correct entry for a task before moving on to the next task. Not every command will result in visible output.\n",
    "- **Markdown cells:** The non-code cells are written in the Markdown markup language. Double-clicking a Markdown cell will cause it to appear in raw Markdown format. To render as text again, run the cell just like running a code cell: press Shift + Enter or click the 'Run' button on the menu bar.  \n",
    "- **Restarting kernel:** If the notebook becomes unresponsive, or if either the notebook or your code displays unexpected behavior, reset the notebook by choosing \"Kernel -> Restart & Clear Output\" from the menu bar. This will clear all memory objects in the notebook, stop any code running, and reset the notebook to its initial state. \n",
    "- **Session timeout:** Sessions will automatically shut down after about 10 minutes of inactivity. (If you leave a lab window open in the foreground, this will generally be counted as “activity”.) See Binder docs: [How long will my Binder session last?](https://mybinder.readthedocs.io/en/latest/about/about.html?highlight=session%20last#how-long-will-my-binder-session-last)\n",
    "- **File navigation:** To navigate the other files in this lab, click on the folder icon (File Browser) at the top of the left sidebar and choose the `Contents.ipynb` file (or access the Contents file directly [here](../Contents.ipynb))\n",
    "\n",
    "</div>\n"
   ]
  },
  {
   "cell_type": "markdown",
   "id": "2547afdd",
   "metadata": {},
   "source": [
    "## Introduction\n",
    "\n",
    "In this lab you'll use PyMongo, the official Python driver for MongoDB, to connect to and work with a MongoDB database containing data on movies, users and comments on a hypothetical movie review website. \n",
    "\n",
    "In this first section you'll connect to the database and begin exploring your data. Specifically, you'll:\n",
    "\n",
    "- Connect to a MongoDB instance using the `pymongo` Python driver\n",
    "- Print a list of all the databases on the MongoDB instance\n",
    "- Get a count of the number of documents in a specific collection\n",
    "- Print out a single document from the collection "
   ]
  },
  {
   "cell_type": "markdown",
   "id": "b3d71359",
   "metadata": {},
   "source": [
    "## Setup \n",
    "\n",
    "This environment has MongoDB installed, our starter data loaded, and `mongod` daemon process running on the localhost default port. The PyMongo driver is also installed. "
   ]
  },
  {
   "cell_type": "markdown",
   "id": "295efd72",
   "metadata": {},
   "source": [
    "## Tasks"
   ]
  },
  {
   "cell_type": "markdown",
   "id": "76860839",
   "metadata": {},
   "source": [
    "### 1. Connect to the MongoDB instance\n",
    "Before you can start querying the data on your MongoDB instance, you need to connect to the MongoDB instance. \n",
    "\n",
    "Replace the blanks with the missing code in the code cell below in order to connect to the MongoDB instance."
   ]
  },
  {
   "cell_type": "code",
   "execution_count": null,
   "id": "a6f17f13",
   "metadata": {},
   "outputs": [],
   "source": [
    "# Replace the blanks with the missing code\n",
    "from pymongo import ____\n",
    "client = ____"
   ]
  },
  {
   "cell_type": "markdown",
   "id": "857d7452",
   "metadata": {},
   "source": [
    "#### <span style=\"color:blue\">Hints</span>\n",
    "- First import `MongoClient` from `pymongo`.\n",
    "- Then create a `MongoClient` instance.\n",
    "- Related docs: [Making a Connection with MongoClient](https://pymongo.readthedocs.io/en/stable/tutorial.html#making-a-connection-with-mongoclient)"
   ]
  },
  {
   "cell_type": "markdown",
   "id": "19ce87a6",
   "metadata": {},
   "source": [
    "### Check that you're connected\n",
    "\n",
    "To confirm that you're connected to a MongoDB server, and to get information about the server you're connected to, run `client.server_info()`."
   ]
  },
  {
   "cell_type": "code",
   "execution_count": null,
   "id": "9ef978ef",
   "metadata": {},
   "outputs": [],
   "source": [
    "client.server_info()"
   ]
  },
  {
   "cell_type": "markdown",
   "id": "47ac0901",
   "metadata": {},
   "source": [
    "### 2. Print a list of all the databases on this MongoDB instance\n",
    "Now that you’ve connected to a MongoDB instance, let’s explore the data stored on it.\n",
    "\n",
    "A single instance of MongoDB can support multiple independent databases. When you're connecting to a MongoDB instance for the first time, it can be helpful to check all the databases that are on the instance. \n",
    "\n",
    "First run the cell below, which imports the Python `pprint` module to make output more readable. Then, write the code to print a list of all the databases running on this MongoDB instance."
   ]
  },
  {
   "cell_type": "code",
   "execution_count": null,
   "id": "c3383e20",
   "metadata": {},
   "outputs": [],
   "source": [
    "# Import the pprint method from the native Python pprint library\n",
    "from pprint import pprint"
   ]
  },
  {
   "cell_type": "code",
   "execution_count": null,
   "id": "e679e0e9",
   "metadata": {},
   "outputs": [],
   "source": [
    "# Write your code here "
   ]
  },
  {
   "cell_type": "markdown",
   "id": "3e54226c",
   "metadata": {},
   "source": [
    "#### <span style=\"color:blue\">Hints</span>\n",
    "- Use the `MongoClient.list_database_names()` method ([docs](https://pymongo.readthedocs.io/en/stable/api/pymongo/mongo_client.html?highlight=list_database_names#pymongo.mongo_client.MongoClient.list_database_names))\n",
    "- Use a for loop to iterate through the database names.\n",
    "- Use `pprint` to print the output in a more readable format."
   ]
  },
  {
   "cell_type": "markdown",
   "id": "78892e19",
   "metadata": {},
   "source": [
    "### 3. Find the number of documents in the `movies`  collection of the `sample_mflix` database\n",
    "We will use only the `sample_mflix` database in this lab. \n",
    "\n",
    "To start, we will query the `movies` collection in the `sample_mflix` database. Before you start querying `movies` the collection, check to see how many documents it contains. \n",
    "\n",
    "Each document contains data on a single movie. Therefore, by finding the number of documents in the collection you will also learn how many movies are included in the collection."
   ]
  },
  {
   "cell_type": "code",
   "execution_count": null,
   "id": "24460753",
   "metadata": {},
   "outputs": [],
   "source": [
    "# Write your code here "
   ]
  },
  {
   "cell_type": "markdown",
   "id": "514b2604",
   "metadata": {},
   "source": [
    "#### <span style=\"color:blue\">Hints</span>\n",
    "- First assign the `sample_mflix` database to a variable, then use a PyMongo collection-level operation to count the documents in the `movies` collection. \n",
    "- Related docs: [Getting a database](https://pymongo.readthedocs.io/en/stable/tutorial.html#getting-a-database), [Getting a collection](https://pymongo.readthedocs.io/en/stable/tutorial.html#getting-a-collection), and [Counting](https://pymongo.readthedocs.io/en/stable/tutorial.html#counting)\n"
   ]
  },
  {
   "cell_type": "markdown",
   "id": "461c228f",
   "metadata": {},
   "source": [
    "### 4. Use `find_one()` to print out a single document from the `movies` collection\n",
    "It can be helpful to see a sample document before querying a collection. Use `find_one()` to printDon a single document from the movies collection.\n",
    "\n",
    "While given MongoDB's flexible document format, we can't assume that all documents in the collection will include exactly the same fields, this sample document will give you an idea of the types of data contained in the `movies` collection. "
   ]
  },
  {
   "cell_type": "code",
   "execution_count": null,
   "id": "26b13c71",
   "metadata": {},
   "outputs": [],
   "source": [
    "# Write your code here "
   ]
  },
  {
   "cell_type": "markdown",
   "id": "0bcd659c",
   "metadata": {},
   "source": [
    "#### <span style=\"color:blue\">Hints</span>\n",
    "- Use the `collection.find_one()` method\n",
    "- Use `pprint` to print the output in a more readable format.\n",
    "- Related docs: [Getting a single document with `find_one()`](https://pymongo.readthedocs.io/en/stable/tutorial.html#getting-a-single-document-with-find-one)"
   ]
  },
  {
   "cell_type": "markdown",
   "id": "60d25226",
   "metadata": {},
   "source": [
    "## Section wrap-up\n",
    "\n",
    "Congratulations! In this section you've begun to use PyMongo, the official Python driver for MongoDB, to connect to and work with a MongoDB database. You've:\n",
    "\n",
    "- Connected to a MongoDB instance using the `pymongo` Python driver\n",
    "- Printed a list of all the databases on the MongoDB instance\n",
    "- Got a count of the number of documents in a specific collection\n",
    "- Printed out a single document from the collection \n",
    "\n",
    "Your next step could be to make basic queries of the database. "
   ]
  }
 ],
 "metadata": {
  "kernelspec": {
   "display_name": "Python 3",
   "language": "python",
   "name": "python3"
  },
  "language_info": {
   "codemirror_mode": {
    "name": "ipython",
    "version": 3
   },
   "file_extension": ".py",
   "mimetype": "text/x-python",
   "name": "python",
   "nbconvert_exporter": "python",
   "pygments_lexer": "ipython3",
   "version": "3.8.8"
  }
 },
 "nbformat": 4,
 "nbformat_minor": 5
}
