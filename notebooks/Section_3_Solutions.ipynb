{
 "cells": [
  {
   "cell_type": "markdown",
   "id": "d1ad0f42",
   "metadata": {},
   "source": [
    "# Section 3: More complex queries"
   ]
  },
  {
   "cell_type": "markdown",
   "id": "08e8314d",
   "metadata": {},
   "source": [
    "<div class=\"alert alert-block alert-info\">\n",
    "   \n",
    "## Jupyter Notebook basics\n",
    "\n",
    "- **Code cells:** Cells shaded grey are code cells. As you work through the lab, run all code cells in order.\n",
    "- **Running code:** To run code, press Shift + Enter or click the 'Run' button on the menu bar. Where there is code already in a cell, run it as written. Where a code cell contains the comment `#Write your code here`, write code to complete the task & then run it. If needed, consult the hints & answer to enter and run the correct entry for a task before moving on to the next task. Not every command will result in visible output.\n",
    "- **Markdown cells:** The non-code cells are written in the Markdown markup language. Double-clicking a Markdown cell will cause it to appear in raw Markdown format. To render as text again, run the cell just like running a code cell: press Shift + Enter or click the 'Run' button on the menu bar.  \n",
    "- **Restarting kernel:** If the notebook becomes unresponsive, or if either the notebook or your code displays unexpected behavior, reset the notebook by choosing \"Kernel -> Restart & Clear Output\" from the menu bar. This will clear all memory objects in the notebook, stop any code running, and reset the notebook to its initial state. \n",
    "- **Session timeout:** Sessions will automatically shut down after about 10 minutes of inactivity. (If you leave a lab window open in the foreground, this will generally be counted as “activity”.) See Binder docs: [How long will my Binder session last?](https://mybinder.readthedocs.io/en/latest/about/about.html?highlight=session%20last#how-long-will-my-binder-session-last)\n",
    "- **File navigation:** To navigate the other files in this lab, click on the folder icon (File Browser) at the top of the left sidebar and choose the `Contents.ipynb` file (or access the Contents file directly [here](../Contents.ipynb))\n",
    "</div>"
   ]
  },
  {
   "cell_type": "markdown",
   "id": "36906993",
   "metadata": {},
   "source": [
    "## Introduction\n",
    "\n",
    "In this section you'll do more complex queries using the `find()` method. Specifically, you'll:\n",
    "\n",
    "- Query collections using comparison operators\n",
    "- Query collections using OR conditions\n",
    "- Iterate over cursor results using `sort()` and `limit()`"
   ]
  },
  {
   "cell_type": "markdown",
   "id": "99cb0762",
   "metadata": {},
   "source": [
    "## Setup \n",
    "\n",
    "Before starting on the tasks below, run the following cells. \n",
    "\n",
    "This sets up a new MongoDB client, connects it to the MongoDB server instance and sets up to query the `sample_mflix` database.  "
   ]
  },
  {
   "cell_type": "code",
   "execution_count": null,
   "id": "989b6574",
   "metadata": {},
   "outputs": [],
   "source": [
    "from pymongo import MongoClient\n",
    "client = MongoClient()\n",
    "db = client.sample_mflix"
   ]
  },
  {
   "cell_type": "markdown",
   "id": "8f39a92b",
   "metadata": {},
   "source": [
    "Run the cell below, which imports the Python `pprint` module and method. You'll use `pprint` to print output in a more readable format. "
   ]
  },
  {
   "cell_type": "code",
   "execution_count": null,
   "id": "7dfdbed8",
   "metadata": {},
   "outputs": [],
   "source": [
    "# Import the pprint method from the native Python pprint library\n",
    "from pprint import pprint"
   ]
  },
  {
   "cell_type": "markdown",
   "id": "bee17e2c",
   "metadata": {},
   "source": [
    "## Tasks"
   ]
  },
  {
   "cell_type": "markdown",
   "id": "83e38e39",
   "metadata": {},
   "source": [
    "### 1. Query collection using comparison operators\n",
    "The database contains one entry that's more than 800 minutes long. Use `find()` with a comparison operator to return all data on this entry. "
   ]
  },
  {
   "cell_type": "code",
   "execution_count": null,
   "id": "72ca233e",
   "metadata": {},
   "outputs": [],
   "source": [
    "cursor = db.movies.find({\"runtime\" : {\"$gt\": 800}})\n",
    "\n",
    "for item in cursor:\n",
    "    pprint(item)"
   ]
  },
  {
   "cell_type": "markdown",
   "id": "12db0964",
   "metadata": {},
   "source": [
    "### 2. Query using multiple comparison operators\n",
    "Return all data on movies from 2014 that have more than ten award wins and an IMDB rating of greater than 8.5."
   ]
  },
  {
   "cell_type": "code",
   "execution_count": null,
   "id": "48d695b8",
   "metadata": {},
   "outputs": [],
   "source": [
    "cursor = db.movies.find({\"awards.wins\" : {\"$gt\" : 10}, \"imdb.rating\": {\"$gt\": 8.5}, \"year\": 2014})\n",
    "\n",
    "for movie in cursor:\n",
    "    pprint(movie)"
   ]
  },
  {
   "cell_type": "markdown",
   "id": "962371c4",
   "metadata": {},
   "source": [
    "### 3. Query using OR conditions\n",
    "Find all entries with a runtime of less than 2 minutes or more than 600 minutes."
   ]
  },
  {
   "cell_type": "code",
   "execution_count": null,
   "id": "7109e0b3",
   "metadata": {},
   "outputs": [],
   "source": [
    "cursor = db.movies.find({\"$or\": [ { \"runtime\" : {\"$lt\": 2}}, {\"runtime\": {\"$gt\": 600 }} ] })\n",
    "\n",
    "for movie in cursor:\n",
    "    pprint(movie)"
   ]
  },
  {
   "cell_type": "markdown",
   "id": "a2678506",
   "metadata": {},
   "source": [
    "### 4. Iterate over cursor results using `sort()` and `limit()`\n",
    "Find the movie from 2011 with the greatest number of award wins. "
   ]
  },
  {
   "cell_type": "code",
   "execution_count": null,
   "id": "3d08a6aa",
   "metadata": {},
   "outputs": [],
   "source": [
    "cursor = db.movies.find({\"year\": 2011 }).sort(\"awards.wins\", -1).limit(1)\n",
    "\n",
    "for movie in cursor:\n",
    "    pprint(movie)"
   ]
  },
  {
   "cell_type": "markdown",
   "id": "ad1f31ab",
   "metadata": {},
   "source": [
    "## Section wrap-up\n",
    "\n",
    "Congratulations! In this section you made more complex queries using the `find()` method. Specifically, you:\n",
    "\n",
    "- Queried collections using comparison operators\n",
    "- Queried collections using OR conditions\n",
    "- Iterated over cursor results using `sort()` and `limit()`\n",
    "\n",
    "Your next step could be to create and manipulate documents in a database. "
   ]
  }
 ],
 "metadata": {
  "kernelspec": {
   "display_name": "Python 3",
   "language": "python",
   "name": "python3"
  },
  "language_info": {
   "codemirror_mode": {
    "name": "ipython",
    "version": 3
   },
   "file_extension": ".py",
   "mimetype": "text/x-python",
   "name": "python",
   "nbconvert_exporter": "python",
   "pygments_lexer": "ipython3",
   "version": "3.8.8"
  }
 },
 "nbformat": 4,
 "nbformat_minor": 5
}
