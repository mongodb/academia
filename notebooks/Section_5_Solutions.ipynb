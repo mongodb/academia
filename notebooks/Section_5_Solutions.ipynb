{
 "cells": [
  {
   "cell_type": "markdown",
   "id": "725e862c",
   "metadata": {},
   "source": [
    "# Section 5: Using aggregation pipelines"
   ]
  },
  {
   "cell_type": "markdown",
   "id": "a296490d",
   "metadata": {},
   "source": [
    "<div class=\"alert alert-block alert-info\">\n",
    "   \n",
    "## Jupyter Notebook basics\n",
    "\n",
    "- **Code cells:** Cells shaded grey are code cells. As you work through the lab, run all code cells in order.\n",
    "- **Running code:** To run code, press Shift + Enter or click the 'Run' button on the menu bar. Where there is code already in a cell, run it as written. Where a code cell contains the comment `#Write your code here`, write code to complete the task & then run it. If needed, consult the hints & answer to enter and run the correct entry for a task before moving on to the next task. Not every command will result in visible output.\n",
    "- **Markdown cells:** The non-code cells are written in the Markdown markup language. Double-clicking a Markdown cell will cause it to appear in raw Markdown format. To render as text again, run the cell just like running a code cell: press Shift + Enter or click the 'Run' button on the menu bar.  \n",
    "- **Restarting kernel:** If the notebook becomes unresponsive, or if either the notebook or your code displays unexpected behavior, reset the notebook by choosing \"Kernel -> Restart & Clear Output\" from the menu bar. This will clear all memory objects in the notebook, stop any code running, and reset the notebook to its initial state. \n",
    "- **Session timeout:** Sessions will automatically shut down after about 10 minutes of inactivity. (If you leave a lab window open in the foreground, this will generally be counted as “activity”.) See Binder docs: [How long will my Binder session last?](https://mybinder.readthedocs.io/en/latest/about/about.html?highlight=session%20last#how-long-will-my-binder-session-last)\n",
    "- **File navigation:** To navigate the other files in this lab, click on the folder icon (File Browser) at the top of the left sidebar and choose the `Contents.ipynb` file (or access the Contents file directly [here](../Contents.ipynb))\n",
    "\n",
    "</div>"
   ]
  },
  {
   "cell_type": "markdown",
   "id": "7aa0b5e8",
   "metadata": {},
   "source": [
    "## Introduction\n",
    "\n",
    "In this section you'll use aggregation pipelines to do more complex data processing and work with documents across multiple collections in a database. Specifically, you'll:\n",
    "\n",
    "- Create aggregations using the `$match`, `$group`, `$sort`, `$limit`, `$unwind`, and `$project` stages  \n",
    "- Create aggregations using the `$sum` and `$avg` aggregation operators\n",
    "- Build an aggregation pipeline that joins data across two collections in the same database using the `$lookup` operator\n",
    "\n",
    "The four tasks in this section are written with varying levels of scaffolding support for creating the aggregation pipelines. While the first two tasks provide support on identifying and coding the stages of an aggregation pipeline, by the end of the of the section you'll be writing aggregation pipelines on your own. "
   ]
  },
  {
   "cell_type": "markdown",
   "id": "b63630d6",
   "metadata": {},
   "source": [
    "## Setup \n",
    "\n",
    "Before starting on the tasks below, run the following cells. \n",
    "\n",
    "This sets up a new MongoDB client, connects it to the MongoDB server instance and sets up to query the `sample_mflix` database.  "
   ]
  },
  {
   "cell_type": "code",
   "execution_count": null,
   "id": "c994ca3a",
   "metadata": {},
   "outputs": [],
   "source": [
    "from pymongo import MongoClient\n",
    "client = MongoClient()\n",
    "db = client.sample_mflix"
   ]
  },
  {
   "cell_type": "markdown",
   "id": "37ebb821",
   "metadata": {},
   "source": [
    "Run the cell below, which imports the Python `pprint` module and method. You'll use `pprint` to print output in a more readable format. "
   ]
  },
  {
   "cell_type": "code",
   "execution_count": null,
   "id": "ca56a67d",
   "metadata": {},
   "outputs": [],
   "source": [
    "# Import the pprint method from the native Python pprint library\n",
    "from pprint import pprint"
   ]
  },
  {
   "cell_type": "markdown",
   "id": "591324ae",
   "metadata": {},
   "source": [
    "## Tasks"
   ]
  },
  {
   "cell_type": "markdown",
   "id": "01e8f319",
   "metadata": {},
   "source": [
    "### 1. Create an aggregation with `$match`, `$sort`, and `$limit` stages  \n",
    "Using an aggregation pipeline, return the document for the movie that won the most awards in 2014."
   ]
  },
  {
   "cell_type": "code",
   "execution_count": null,
   "id": "01081d04",
   "metadata": {},
   "outputs": [],
   "source": [
    "stage_match_year = { \n",
    "    \"$match\": {\"year\": 2014}\n",
    "}"
   ]
  },
  {
   "cell_type": "code",
   "execution_count": null,
   "id": "8eeeb670",
   "metadata": {},
   "outputs": [],
   "source": [
    "stage_sort_awards_desc = {\n",
    "    \"$sort\" : {\"awards.wins\": -1}\n",
    "}"
   ]
  },
  {
   "cell_type": "code",
   "execution_count": null,
   "id": "c03a0fa6",
   "metadata": {},
   "outputs": [],
   "source": [
    "stage_limit_1 = {\n",
    "    \"$limit\" : 1\n",
    "}"
   ]
  },
  {
   "cell_type": "code",
   "execution_count": null,
   "id": "b817d297",
   "metadata": {},
   "outputs": [],
   "source": [
    "pipeline = [\n",
    "    stage_match_year,\n",
    "    stage_sort_awards_desc,\n",
    "    stage_limit_1,\n",
    "]"
   ]
  },
  {
   "cell_type": "code",
   "execution_count": null,
   "id": "56612646",
   "metadata": {},
   "outputs": [],
   "source": [
    "results = db.movies.aggregate(pipeline)\n",
    "\n",
    "for movie in results:\n",
    "    pprint(movie)"
   ]
  },
  {
   "cell_type": "markdown",
   "id": "3b812eef",
   "metadata": {},
   "source": [
    "### 2. Create an aggregation with `$match`, `$group`, and `$sort` stages. Use the `$sum` operator. \n",
    "How many PG-13 movies does the database contain for each year? Order the results by the number of PG-13 movies, from most to least. "
   ]
  },
  {
   "cell_type": "code",
   "execution_count": null,
   "id": "a890f288",
   "metadata": {},
   "outputs": [],
   "source": [
    "stage_match_rating = { \n",
    "    \"$match\": {\"rated\": \"PG-13\"}\n",
    "}"
   ]
  },
  {
   "cell_type": "code",
   "execution_count": null,
   "id": "33c1f015",
   "metadata": {},
   "outputs": [],
   "source": [
    "stage_group_by_year = { \n",
    "    \"$group\": {\n",
    "        \"_id\": \"$year\",\n",
    "        \"movie_count\": {\"$sum\" : 1},\n",
    "    }\n",
    "}"
   ]
  },
  {
   "cell_type": "code",
   "execution_count": null,
   "id": "9072c612",
   "metadata": {},
   "outputs": [],
   "source": [
    "stage_sort_by_rating_desc = {\n",
    "    \"$sort\": {\"movie_count\": -1}\n",
    "}"
   ]
  },
  {
   "cell_type": "code",
   "execution_count": null,
   "id": "1327e22b",
   "metadata": {},
   "outputs": [],
   "source": [
    "pipeline = [\n",
    "    stage_match_rating,\n",
    "    stage_group_by_year,\n",
    "    stage_sort_by_rating_desc,\n",
    "]"
   ]
  },
  {
   "cell_type": "code",
   "execution_count": null,
   "id": "eaeee833",
   "metadata": {},
   "outputs": [],
   "source": [
    "results = db.movies.aggregate(pipeline)\n",
    "\n",
    "for movie in results:\n",
    "    pprint(movie)"
   ]
  },
  {
   "cell_type": "markdown",
   "id": "00521377",
   "metadata": {},
   "source": [
    "### 3. Create an aggregation with `$unwind`, `$group`,  `$sort` and `$limit` stages. Use the `$avg` operator.\n",
    "\n",
    "Find the director who has the highest average IMDB rating over all of their movies in the `movies` database. "
   ]
  },
  {
   "cell_type": "code",
   "execution_count": null,
   "id": "fb2ba2ad",
   "metadata": {},
   "outputs": [],
   "source": [
    "stage_unwind_directors = { \n",
    "    \"$unwind\": \"$directors\"\n",
    "}"
   ]
  },
  {
   "cell_type": "code",
   "execution_count": null,
   "id": "004acdba",
   "metadata": {},
   "outputs": [],
   "source": [
    "stage_group_by_avg_imdb_rating = { \n",
    "    \"$group\": {\n",
    "        \"_id\": \"$directors\",\n",
    "        \"avg_imdb\": {\"$avg\" : \"$imdb.rating\"},\n",
    "    }\n",
    "}"
   ]
  },
  {
   "cell_type": "code",
   "execution_count": null,
   "id": "702594df",
   "metadata": {},
   "outputs": [],
   "source": [
    "stage_sort_by_imdb_rating_desc = {\n",
    "    \"$sort\": {\"avg_imdb\": -1}\n",
    "}"
   ]
  },
  {
   "cell_type": "code",
   "execution_count": null,
   "id": "20c15906",
   "metadata": {},
   "outputs": [],
   "source": [
    "stage_limit_1 = {\n",
    "    \"$limit\" : 1\n",
    "}"
   ]
  },
  {
   "cell_type": "code",
   "execution_count": null,
   "id": "8b93fa2c",
   "metadata": {},
   "outputs": [],
   "source": [
    "pipeline = [\n",
    "    stage_unwind_directors,\n",
    "    stage_group_by_avg_imdb_rating,\n",
    "    stage_sort_by_imdb_rating_desc,\n",
    "    stage_limit_1\n",
    "]"
   ]
  },
  {
   "cell_type": "code",
   "execution_count": null,
   "id": "055a5222",
   "metadata": {},
   "outputs": [],
   "source": [
    "results = db.movies.aggregate(pipeline)\n",
    "\n",
    "for movie in results:\n",
    "    pprint(movie)"
   ]
  },
  {
   "cell_type": "markdown",
   "id": "c94bdd81",
   "metadata": {},
   "source": [
    "### 4. Create an aggregation with `$match`, `$lookup`,  and `$project` stages.  \n",
    "\n",
    "We're are interested in data on comments written about the 2005 film \"Fantastic Four\". Joining the `movies` and `comments` databases, create a single document that consists of only the `_id`, movie title, year, and the name of the commenter. "
   ]
  },
  {
   "cell_type": "code",
   "execution_count": null,
   "id": "6661fef4",
   "metadata": {},
   "outputs": [],
   "source": [
    "stage_match_movie = { \n",
    "    \"$match\": {\"title\": \"Fantastic Four\", \"year\": 2015}\n",
    "}"
   ]
  },
  {
   "cell_type": "code",
   "execution_count": null,
   "id": "f19ceb65",
   "metadata": {},
   "outputs": [],
   "source": [
    "stage_lookup_comments = {\n",
    "   \"$lookup\": {\n",
    "         \"from\": \"comments\",\n",
    "         \"localField\": \"_id\",\n",
    "         \"foreignField\": \"movie_id\",\n",
    "         \"as\": \"related_comments\",\n",
    "   }\n",
    "}"
   ]
  },
  {
   "cell_type": "code",
   "execution_count": null,
   "id": "98562435",
   "metadata": {},
   "outputs": [],
   "source": [
    "stage_project = {\n",
    "    \"$project\" : { \"title\": 1, \"year\": 1, \"related_comments\" :1 }\n",
    "}"
   ]
  },
  {
   "cell_type": "code",
   "execution_count": null,
   "id": "6ef98b80",
   "metadata": {},
   "outputs": [],
   "source": [
    "pipeline = [\n",
    "   stage_match_movie,\n",
    "   stage_lookup_comments,\n",
    "   stage_project\n",
    "]"
   ]
  },
  {
   "cell_type": "code",
   "execution_count": null,
   "id": "657cc32b",
   "metadata": {},
   "outputs": [],
   "source": [
    "results = db.movies.aggregate(pipeline)\n",
    "for movie in results:\n",
    "    pprint(movie)"
   ]
  },
  {
   "cell_type": "markdown",
   "id": "4f621a54",
   "metadata": {},
   "source": [
    "## Section wrap-up\n",
    "\n",
    "Congratulations! In this section you used aggregation pipelines to do more complex data processing and work with documents across multiple collections in a database. Specifically, you:\n",
    "\n",
    "- Created aggregations using the `$match`, `$group`, `$sort`, `$limit`, `$unwind`, and `$project` stages  \n",
    "- Created aggregations using the `$sum` and `$avg` aggregation operators\n",
    "- Built an aggregation pipeline that joined data across two collections in the same database using the `$lookup` operator\n",
    "\n",
    "To learn more about using aggregation pipelines in MongoDB, you may be interested in checking out the [Practical MongoDB Aggregations](https://www.practical-mongodb-aggregations.com/) free e-book."
   ]
  }
 ],
 "metadata": {
  "kernelspec": {
   "display_name": "Python 3",
   "language": "python",
   "name": "python3"
  },
  "language_info": {
   "codemirror_mode": {
    "name": "ipython",
    "version": 3
   },
   "file_extension": ".py",
   "mimetype": "text/x-python",
   "name": "python",
   "nbconvert_exporter": "python",
   "pygments_lexer": "ipython3",
   "version": "3.8.8"
  }
 },
 "nbformat": 4,
 "nbformat_minor": 5
}
