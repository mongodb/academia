{
 "cells": [
  {
   "cell_type": "markdown",
   "id": "76466105",
   "metadata": {},
   "source": [
    "# MongoDB lab"
   ]
  },
  {
   "cell_type": "markdown",
   "id": "f55efd17",
   "metadata": {},
   "source": [
    "Section 1: Connect to MongoDB & explore your data\\\n",
    "[Exercises](notebooks/Section_1_Exercises.ipynb)\n",
    "[Solutions](notebooks/Section_1_Solutions.ipynb)\n",
    "\n",
    "Section 2: Basic queries\\\n",
    "[Exercises](notebooks/Section_2_Exercises.ipynb)\n",
    "[Solutions](notebooks/Section_2_Solutions.ipynb)\n",
    "\n",
    "Section 3: More complex queries\\\n",
    "[Exercises](notebooks/Section_3_Exercises.ipynb)\n",
    "[Solutions](notebooks/Section_3_Solutions.ipynb)\n",
    "\n",
    "Section 4: Creating and manipulating documents\\\n",
    "[Exercises](notebooks/Section_4_Exercises.ipynb)\n",
    "[Solutions](notebooks/Section_4_Solutions.ipynb)\n",
    "\n",
    "Section 5: Using aggregation pipelines\\\n",
    "[Exercises](notebooks/Section_5_Exercises.ipynb)\n",
    "[Solutions](notebooks/Section_5_Solutions.ipynb)\n"
   ]
  }
 ],
 "metadata": {
  "kernelspec": {
   "display_name": "Python 3",
   "language": "python",
   "name": "python3"
  },
  "language_info": {
   "codemirror_mode": {
    "name": "ipython",
    "version": 3
   },
   "file_extension": ".py",
   "mimetype": "text/x-python",
   "name": "python",
   "nbconvert_exporter": "python",
   "pygments_lexer": "ipython3",
   "version": "3.8.8"
  }
 },
 "nbformat": 4,
 "nbformat_minor": 5
}
